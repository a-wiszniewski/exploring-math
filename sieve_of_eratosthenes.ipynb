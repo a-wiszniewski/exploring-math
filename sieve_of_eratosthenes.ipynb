{
 "cells": [
  {
   "cell_type": "markdown",
   "id": "718e42dd",
   "metadata": {},
   "source": [
    "## Sieve of Eratosthenes\n",
    "\n",
    "An algorithm dating from Ancient Greece to find prime numbers, by sequentially removing multiples of primes starting from 2 for a given list of numbers\n",
    "\n",
    ">Sift the Two's and Sift the Three's:<br>\n",
    ">The Sieve of Eratosthenes.<br>\n",
    ">When the multiples sublime,<br>\n",
    ">The numbers that remain are Prime.<br>\n",
    "\n",
    "Anonymous"
   ]
  },
  {
   "cell_type": "code",
   "execution_count": 1,
   "id": "d91795d3",
   "metadata": {},
   "outputs": [],
   "source": [
    "def prime_list(up_to=31):\n",
    "    \n",
    "    if up_to < 2:\n",
    "        return []\n",
    "    \n",
    "    elif up_to == 2:\n",
    "        return [2]\n",
    "    \n",
    "    else:\n",
    "        up_to += 1\n",
    "\n",
    "        primes = [2] + [x for x in range(3,up_to,2)]\n",
    "\n",
    "        i = 1\n",
    "\n",
    "        while i < len(primes):\n",
    "            composites = [x for x in range(primes[i],up_to,primes[i])][1:]\n",
    "            primes = [x for x in primes if x not in composites]\n",
    "            i += 1\n",
    "\n",
    "        return primes"
   ]
  },
  {
   "cell_type": "code",
   "execution_count": 2,
   "id": "5e9833e6",
   "metadata": {},
   "outputs": [
    {
     "data": {
      "text/plain": [
       "[2,\n",
       " 3,\n",
       " 5,\n",
       " 7,\n",
       " 11,\n",
       " 13,\n",
       " 17,\n",
       " 19,\n",
       " 23,\n",
       " 29,\n",
       " 31,\n",
       " 37,\n",
       " 41,\n",
       " 43,\n",
       " 47,\n",
       " 53,\n",
       " 59,\n",
       " 61,\n",
       " 67,\n",
       " 71,\n",
       " 73,\n",
       " 79,\n",
       " 83,\n",
       " 89,\n",
       " 97]"
      ]
     },
     "execution_count": 2,
     "metadata": {},
     "output_type": "execute_result"
    }
   ],
   "source": [
    "prime_list(100)"
   ]
  },
  {
   "cell_type": "code",
   "execution_count": null,
   "id": "c8d908e5",
   "metadata": {},
   "outputs": [],
   "source": []
  }
 ],
 "metadata": {
  "kernelspec": {
   "display_name": "Python 3.8.13 ('udemyML')",
   "language": "python",
   "name": "python3"
  },
  "language_info": {
   "codemirror_mode": {
    "name": "ipython",
    "version": 3
   },
   "file_extension": ".py",
   "mimetype": "text/x-python",
   "name": "python",
   "nbconvert_exporter": "python",
   "pygments_lexer": "ipython3",
   "version": "3.8.13"
  },
  "vscode": {
   "interpreter": {
    "hash": "df87bc948d44481b9a6c9208dccc359c3da82608a8bfae7f576e2f70b7f4b002"
   }
  }
 },
 "nbformat": 4,
 "nbformat_minor": 5
}
